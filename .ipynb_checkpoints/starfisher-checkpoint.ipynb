{
 "cells": [
  {
   "cell_type": "markdown",
   "id": "f3a12873",
   "metadata": {
    "editable": true,
    "slideshow": {
     "slide_type": ""
    },
    "tags": []
   },
   "source": [
    "# StarFisher\n",
    "## Plan\n",
    "\n",
    "**1. Uczenie Nienadzorowane**\n",
    "\n",
    "**2. Zaprojektowanie Grafu**\n",
    "\n",
    "**3. Użycie GNN**\n",
    "\n",
    "**4. Wizualizacja**\n",
    "\n",
    "**5. Ewentualne dodatki**\n"
   ]
  },
  {
   "cell_type": "code",
   "execution_count": 2,
   "id": "bb36ca6a",
   "metadata": {},
   "outputs": [],
   "source": [
    "import pandas as pd"
   ]
  },
  {
   "cell_type": "code",
   "execution_count": null,
   "id": "5c11dadd",
   "metadata": {},
   "outputs": [],
   "source": []
  }
 ],
 "metadata": {
  "kernelspec": {
   "display_name": "Python 3 (ipykernel)",
   "language": "python",
   "name": "python3"
  },
  "language_info": {
   "codemirror_mode": {
    "name": "ipython",
    "version": 3
   },
   "file_extension": ".py",
   "mimetype": "text/x-python",
   "name": "python",
   "nbconvert_exporter": "python",
   "pygments_lexer": "ipython3",
   "version": "3.13.7"
  }
 },
 "nbformat": 4,
 "nbformat_minor": 5
}
